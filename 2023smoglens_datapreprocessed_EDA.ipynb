{
 "cells": [
  {
   "cell_type": "code",
   "execution_count": 7,
   "id": "1ab77857-7e32-478a-80cb-b48938da11f0",
   "metadata": {
    "execution": {
     "iopub.execute_input": "2025-08-09T06:47:40.548794Z",
     "iopub.status.busy": "2025-08-09T06:47:40.548541Z",
     "iopub.status.idle": "2025-08-09T06:47:41.757659Z",
     "shell.execute_reply": "2025-08-09T06:47:41.756729Z",
     "shell.execute_reply.started": "2025-08-09T06:47:40.548778Z"
    }
   },
   "outputs": [
    {
     "name": "stdout",
     "output_type": "stream",
     "text": [
      "['smoglens', 'jp_openmeteo_processed_20230101_to_20231231.csv:Zone.Identifier', 'jp_era5_processed_20230101_to_20231231.csv', 'jp_nasapower_processed_20230101_to_20231231.csv', 'jp_jartic_processed_20230101_to_20231231.csv:Zone.Identifier', 'jp_jartic_processed_20230101_to_20231231.csv', '.ipynb_checkpoints', 'jp_terrain_processed_20230101_to_20231231.csv', 'jp_openaq_processed_20230101_to_20231231.csv', 'jp_openaq_processed_20230101_to_20231231.csv:Zone.Identifier', '2023smoglens_datapreprocessed_EDA.ipynb', 'jp_terrain_processed_20230101_to_20231231.csv:Zone.Identifier', 'DATA_DICTIONARY.md:Zone.Identifier', 'jp_era5_processed_20230101_to_20231231.csv:Zone.Identifier', 'jp_openmeteo_processed_20230101_to_20231231.csv', 'DATA_DICTIONARY.md', 'jp_nasapower_processed_20230101_to_20231231.csv:Zone.Identifier']\n"
     ]
    }
   ],
   "source": [
    "import pandas as pd\n",
    "import glob\n",
    "import numpy as np\n",
    "import os\n",
    "\n",
    "print(os.listdir())  # lists files in current directory"
   ]
  },
  {
   "cell_type": "code",
   "execution_count": 6,
   "id": "b7bc0919-c203-4efd-b9f9-b23f18c3f796",
   "metadata": {
    "execution": {
     "iopub.execute_input": "2025-08-09T06:47:37.167394Z",
     "iopub.status.busy": "2025-08-09T06:47:37.165032Z",
     "iopub.status.idle": "2025-08-09T06:47:37.206243Z",
     "shell.execute_reply": "2025-08-09T06:47:37.199181Z",
     "shell.execute_reply.started": "2025-08-09T06:47:37.167361Z"
    }
   },
   "outputs": [
    {
     "ename": "NameError",
     "evalue": "name 'dfs' is not defined",
     "output_type": "error",
     "traceback": [
      "\u001b[0;31m---------------------------------------------------------------------------\u001b[0m",
      "\u001b[0;31mNameError\u001b[0m                                 Traceback (most recent call last)",
      "Cell \u001b[0;32mIn[6], line 1\u001b[0m\n\u001b[0;32m----> 1\u001b[0m \u001b[43mdfs\u001b[49m[\u001b[38;5;124m'\u001b[39m\u001b[38;5;124mjp_era5_processed_20230101_to_20231231.csv\u001b[39m\u001b[38;5;124m'\u001b[39m]\u001b[38;5;241m.\u001b[39mhead()\n",
      "\u001b[0;31mNameError\u001b[0m: name 'dfs' is not defined"
     ]
    }
   ],
   "source": [
    "dfs['jp_era5_processed_20230101_to_20231231.csv'].head()\n"
   ]
  },
  {
   "cell_type": "code",
   "execution_count": 8,
   "id": "c56c0c08-9940-474c-b997-f78d25f58797",
   "metadata": {
    "execution": {
     "iopub.execute_input": "2025-08-09T06:47:43.464890Z",
     "iopub.status.busy": "2025-08-09T06:47:43.464206Z",
     "iopub.status.idle": "2025-08-09T06:47:43.474422Z",
     "shell.execute_reply": "2025-08-09T06:47:43.472796Z",
     "shell.execute_reply.started": "2025-08-09T06:47:43.464866Z"
    }
   },
   "outputs": [],
   "source": [
    "csv_files = glob.glob(\"*.csv\")"
   ]
  },
  {
   "cell_type": "code",
   "execution_count": 3,
   "id": "aa5404ef-4443-405a-8b57-90ff06d2bd01",
   "metadata": {
    "execution": {
     "iopub.execute_input": "2025-08-09T06:07:42.335670Z",
     "iopub.status.busy": "2025-08-09T06:07:42.335492Z",
     "iopub.status.idle": "2025-08-09T06:07:42.345986Z",
     "shell.execute_reply": "2025-08-09T06:07:42.345259Z",
     "shell.execute_reply.started": "2025-08-09T06:07:42.335652Z"
    },
    "scrolled": true
   },
   "outputs": [
    {
     "name": "stdout",
     "output_type": "stream",
     "text": [
      "Files found:\n",
      "jp_era5_processed_20230101_to_20231231.csv\n",
      "jp_nasapower_processed_20230101_to_20231231.csv\n",
      "jp_jartic_processed_20230101_to_20231231.csv\n",
      "jp_terrain_processed_20230101_to_20231231.csv\n",
      "jp_openaq_processed_20230101_to_20231231.csv\n",
      "jp_openmeteo_processed_20230101_to_20231231.csv\n"
     ]
    }
   ],
   "source": [
    "print(\"Files found:\")\n",
    "for file in csv_files:\n",
    "    print(file)"
   ]
  },
  {
   "cell_type": "code",
   "execution_count": 10,
   "id": "1706e712-a7ed-4a10-a6c6-3930e027b6c9",
   "metadata": {
    "execution": {
     "iopub.execute_input": "2025-08-09T06:49:28.826618Z",
     "iopub.status.busy": "2025-08-09T06:49:28.823013Z",
     "iopub.status.idle": "2025-08-09T06:50:54.190451Z",
     "shell.execute_reply": "2025-08-09T06:50:54.144743Z",
     "shell.execute_reply.started": "2025-08-09T06:49:28.826523Z"
    }
   },
   "outputs": [],
   "source": [
    "files = [\n",
    "    'jp_era5_processed_20230101_to_20231231.csv',\n",
    "    'jp_nasapower_processed_20230101_to_20231231.csv',\n",
    "    'jp_jartic_processed_20230101_to_20231231.csv',\n",
    "    'jp_terrain_processed_20230101_to_20231231.csv',\n",
    "    'jp_openaq_processed_20230101_to_20231231.csv',\n",
    "    'jp_openmeteo_processed_20230101_to_20231231.csv'\n",
    "]\n",
    "\n",
    "dfs = {}\n",
    "for file in files:\n",
    "    if os.path.exists(file):\n",
    "        dfs[file] = pd.read_csv(file)\n",
    "    else:\n",
    "        print(f\"File not found: {file}\")\n",
    "\n"
   ]
  },
  {
   "cell_type": "code",
   "execution_count": 5,
   "id": "c437a0f0-6b73-43fe-8562-193835e56176",
   "metadata": {
    "execution": {
     "iopub.execute_input": "2025-08-09T06:08:43.111605Z",
     "iopub.status.busy": "2025-08-09T06:08:43.107726Z",
     "iopub.status.idle": "2025-08-09T06:08:43.553768Z",
     "shell.execute_reply": "2025-08-09T06:08:43.552534Z",
     "shell.execute_reply.started": "2025-08-09T06:08:43.110997Z"
    }
   },
   "outputs": [
    {
     "name": "stdout",
     "output_type": "stream",
     "text": [
      "Sampled jp_openmeteo_processed_20230101_to_20231231.csv: Number of duplicate rows = 0\n"
     ]
    }
   ],
   "source": [
    "df_sample = pd.read_csv(file, nrows=100000)  # adjust number of rows\n",
    "duplicates_count = df_sample.duplicated().sum()\n",
    "print(f\"Sampled {file}: Number of duplicate rows = {duplicates_count}\")\n"
   ]
  },
  {
   "cell_type": "code",
   "execution_count": 6,
   "id": "a16319fb-ebec-44e6-aef8-eba4cbfd4e68",
   "metadata": {
    "execution": {
     "iopub.execute_input": "2025-08-09T06:08:43.557146Z",
     "iopub.status.busy": "2025-08-09T06:08:43.555525Z",
     "iopub.status.idle": "2025-08-09T06:08:45.176022Z",
     "shell.execute_reply": "2025-08-09T06:08:45.174107Z",
     "shell.execute_reply.started": "2025-08-09T06:08:43.557105Z"
    }
   },
   "outputs": [
    {
     "data": {
      "text/plain": [
       "0"
      ]
     },
     "execution_count": 6,
     "metadata": {},
     "output_type": "execute_result"
    }
   ],
   "source": [
    "import gc\n",
    "\n",
    "del df_sample  # or del chunk if using chunks\n",
    "gc.collect()\n"
   ]
  },
  {
   "cell_type": "markdown",
   "id": "c16fbe79-d13a-44b9-9cc2-f6505ac8dc36",
   "metadata": {},
   "source": [
    "**Missing Values**"
   ]
  },
  {
   "cell_type": "code",
   "execution_count": 7,
   "id": "c65ad5c4-6a38-46b9-b669-e8f5907fb5d4",
   "metadata": {
    "execution": {
     "iopub.execute_input": "2025-08-09T06:08:45.177509Z",
     "iopub.status.busy": "2025-08-09T06:08:45.177286Z",
     "iopub.status.idle": "2025-08-09T06:09:02.675869Z",
     "shell.execute_reply": "2025-08-09T06:09:02.674043Z",
     "shell.execute_reply.started": "2025-08-09T06:08:45.177490Z"
    }
   },
   "outputs": [
    {
     "name": "stdout",
     "output_type": "stream",
     "text": [
      "\n",
      "Missing values (NaN) for jp_era5_processed_20230101_to_20231231.csv:\n",
      "Series([], dtype: float64)\n",
      "\n",
      "Empty strings ('') for jp_era5_processed_20230101_to_20231231.csv:\n",
      "Series([], dtype: float64)\n",
      "\n",
      "Missing values (NaN) for jp_nasapower_processed_20230101_to_20231231.csv:\n",
      "nasa_cloud_cover_pct_mean         0.00615\n",
      "nasa_cloud_cover_pct_min          0.00615\n",
      "nasa_cloud_cover_pct_max          0.00615\n",
      "nasa_cloud_cover_pct_count        0.00615\n",
      "nasa_dew_point_c_mean             0.00615\n",
      "nasa_dew_point_c_min              0.00615\n",
      "nasa_dew_point_c_max              0.00615\n",
      "nasa_dew_point_c_count            0.00615\n",
      "nasa_humidity_pct_mean            0.00615\n",
      "nasa_humidity_pct_min             0.00615\n",
      "nasa_humidity_pct_max             0.00615\n",
      "nasa_humidity_pct_count           0.00615\n",
      "nasa_precipitation_mm_mean        0.00615\n",
      "nasa_precipitation_mm_min         0.00615\n",
      "nasa_precipitation_mm_max         0.00615\n",
      "nasa_precipitation_mm_count       0.00615\n",
      "nasa_pressure_hpa_mean            0.00615\n",
      "nasa_pressure_hpa_min             0.00615\n",
      "nasa_pressure_hpa_max             0.00615\n",
      "nasa_pressure_hpa_count           0.00615\n",
      "nasa_solar_radiation_wm2_mean     0.00615\n",
      "nasa_solar_radiation_wm2_min      0.00615\n",
      "nasa_solar_radiation_wm2_max      0.00615\n",
      "nasa_solar_radiation_wm2_count    0.00615\n",
      "dtype: float64\n",
      "\n",
      "Empty strings ('') for jp_nasapower_processed_20230101_to_20231231.csv:\n",
      "Series([], dtype: float64)\n",
      "\n",
      "Missing values (NaN) for jp_jartic_processed_20230101_to_20231231.csv:\n",
      "traffic_volume_std    0.064325\n",
      "dtype: float64\n",
      "\n",
      "Empty strings ('') for jp_jartic_processed_20230101_to_20231231.csv:\n",
      "Series([], dtype: float64)\n",
      "\n",
      "Missing values (NaN) for jp_terrain_processed_20230101_to_20231231.csv:\n",
      "elevation_std_m    0.99394\n",
      "dtype: float64\n",
      "\n",
      "Empty strings ('') for jp_terrain_processed_20230101_to_20231231.csv:\n",
      "Series([], dtype: float64)\n",
      "\n",
      "Missing values (NaN) for jp_openaq_processed_20230101_to_20231231.csv:\n",
      "co_ppm_mean       0.794345\n",
      "co_ppm_min        0.794345\n",
      "co_ppm_max        0.794345\n",
      "no2_ugm3_mean     0.031776\n",
      "no2_ugm3_min      0.031776\n",
      "no2_ugm3_max      0.031776\n",
      "pm25_ugm3_mean    0.200172\n",
      "pm25_ugm3_min     0.200172\n",
      "pm25_ugm3_max     0.200172\n",
      "so2_ugm3_mean     0.378888\n",
      "so2_ugm3_min      0.378888\n",
      "so2_ugm3_max      0.378888\n",
      "dtype: float64\n",
      "\n",
      "Empty strings ('') for jp_openaq_processed_20230101_to_20231231.csv:\n",
      "Series([], dtype: float64)\n",
      "\n",
      "Missing values (NaN) for jp_openmeteo_processed_20230101_to_20231231.csv:\n",
      "cloud_cover_pct_mean        0.000617\n",
      "cloud_cover_pct_min         0.000617\n",
      "cloud_cover_pct_max         0.000617\n",
      "dew_point_c_mean            0.000617\n",
      "dew_point_c_min             0.000617\n",
      "dew_point_c_max             0.000617\n",
      "humidity_pct_mean           0.000617\n",
      "humidity_pct_min            0.000617\n",
      "humidity_pct_max            0.000617\n",
      "precipitation_mm_mean       0.000818\n",
      "precipitation_mm_min        0.000818\n",
      "precipitation_mm_max        0.000818\n",
      "pressure_hpa_mean           0.001026\n",
      "pressure_hpa_min            0.001026\n",
      "pressure_hpa_max            0.001026\n",
      "solar_radiation_wm2_mean    0.000617\n",
      "solar_radiation_wm2_min     0.000617\n",
      "solar_radiation_wm2_max     0.000617\n",
      "temperature_c_mean          0.001449\n",
      "temperature_c_min           0.001449\n",
      "temperature_c_max           0.001449\n",
      "dtype: float64\n",
      "\n",
      "Empty strings ('') for jp_openmeteo_processed_20230101_to_20231231.csv:\n",
      "Series([], dtype: float64)\n"
     ]
    }
   ],
   "source": [
    "for file, df in dfs.items():\n",
    "    # Check missing (NaNs)\n",
    "    missing_pct = df.isnull().mean()\n",
    "    # Check empty strings (only for object columns)\n",
    "    empty_str_pct = (df.select_dtypes(include='object') == '').mean()\n",
    "    \n",
    "    print(f\"\\nMissing values (NaN) for {file}:\")\n",
    "    print(missing_pct[missing_pct > 0])\n",
    "    print(f\"\\nEmpty strings ('') for {file}:\")\n",
    "    print(empty_str_pct[empty_str_pct > 0])\n"
   ]
  },
  {
   "cell_type": "markdown",
   "id": "5a0d7ceb-310d-4e4e-85f4-ef7419dd3742",
   "metadata": {},
   "source": [
    "**Scaling**"
   ]
  },
  {
   "cell_type": "code",
   "execution_count": null,
   "id": "e4def419-378f-419c-b63b-e709bd5353dd",
   "metadata": {
    "execution": {
     "execution_failed": "2025-08-09T06:54:11.727Z",
     "iopub.execute_input": "2025-08-09T06:53:14.827774Z",
     "iopub.status.busy": "2025-08-09T06:53:14.825710Z"
    },
    "scrolled": true
   },
   "outputs": [
    {
     "name": "stdout",
     "output_type": "stream",
     "text": [
      "jp_era5_processed_20230101_to_20231231.csv: No missing numerical values to impute.\n",
      "jp_nasapower_processed_20230101_to_20231231.csv: Missing numerical values imputed with median.\n",
      "jp_jartic_processed_20230101_to_20231231.csv: Missing numerical values imputed with median.\n",
      "jp_terrain_processed_20230101_to_20231231.csv: Missing numerical values imputed with median.\n"
     ]
    }
   ],
   "source": [
    "from sklearn.impute import SimpleImputer\n",
    "\n",
    "for file, df in dfs.items():\n",
    "    # Calculate missing value percentages for this dataframe\n",
    "    missing_pct = df.isnull().mean()\n",
    "\n",
    "    # Select numerical columns\n",
    "    num_cols = df.select_dtypes(include='number').columns\n",
    "\n",
    "    # Reindex to keep only numerical columns and fill NaNs with 0 (meaning no missing)\n",
    "    num_missing_pct = missing_pct.reindex(num_cols).fillna(0)\n",
    "\n",
    "    # Check if there are missing values in numerical columns\n",
    "    if num_missing_pct.sum() > 0:\n",
    "        imputer = SimpleImputer(strategy='median')\n",
    "        df[num_cols] = imputer.fit_transform(df[num_cols])\n",
    "        print(f\"{file}: Missing numerical values imputed with median.\")\n",
    "    else:\n",
    "        print(f\"{file}: No missing numerical values to impute.\")\n",
    "\n",
    "    # Save back updated dataframe\n",
    "    dfs[file] = df\n"
   ]
  },
  {
   "cell_type": "markdown",
   "id": "40cbd018-bb0e-4d3b-b279-a86ccff7cd3b",
   "metadata": {
    "execution": {
     "iopub.execute_input": "2025-08-09T05:37:59.375796Z",
     "iopub.status.busy": "2025-08-09T05:37:59.375155Z",
     "iopub.status.idle": "2025-08-09T05:37:59.391915Z",
     "shell.execute_reply": "2025-08-09T05:37:59.389578Z",
     "shell.execute_reply.started": "2025-08-09T05:37:59.375754Z"
    }
   },
   "source": [
    "**Encode features**"
   ]
  },
  {
   "cell_type": "code",
   "execution_count": null,
   "id": "e763bca8-8550-4b20-9e3b-8366355efba0",
   "metadata": {},
   "outputs": [],
   "source": []
  },
  {
   "cell_type": "code",
   "execution_count": null,
   "id": "5e1ebe10-beb1-4af2-b960-3c968a430bb3",
   "metadata": {
    "execution": {
     "execution_failed": "2025-08-09T06:09:44.238Z"
    }
   },
   "outputs": [],
   "source": [
    "cat_cols = df.select_dtypes(include='object').columns\n",
    "\n",
    "from sklearn.preprocessing import OneHotEncoder\n",
    "\n",
    "ohe = OneHotEncoder(sparse=False, handle_unknown='ignore')\n",
    "encoded = ohe.fit_transform(df[cat_cols])\n",
    "\n",
    "import numpy as np\n",
    "encoded_df = pd.DataFrame(encoded, columns=ohe.get_feature_names_out(cat_cols))\n",
    "\n",
    "df = df.drop(columns=cat_cols).reset_index(drop=True)\n",
    "df = pd.concat([df, encoded_df], axis=1)\n"
   ]
  },
  {
   "cell_type": "markdown",
   "id": "6bd39a93-426a-4e6b-944a-7198dc564c90",
   "metadata": {},
   "source": [
    "**Cyclical engineering**"
   ]
  }
 ],
 "metadata": {
  "kernelspec": {
   "display_name": "Python 3 (ipykernel)",
   "language": "python",
   "name": "python3"
  },
  "language_info": {
   "codemirror_mode": {
    "name": "ipython",
    "version": 3
   },
   "file_extension": ".py",
   "mimetype": "text/x-python",
   "name": "python",
   "nbconvert_exporter": "python",
   "pygments_lexer": "ipython3",
   "version": "3.12.9"
  }
 },
 "nbformat": 4,
 "nbformat_minor": 5
}
