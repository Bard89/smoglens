{
 "cells": [
  {
   "cell_type": "markdown",
   "id": "dca5c5c5",
   "metadata": {},
   "source": [
    "# JARTIC dataset - Exploratory Data Analysis"
   ]
  },
  {
   "cell_type": "code",
   "execution_count": null,
   "id": "1ab77857-7e32-478a-80cb-b48938da11f0",
   "metadata": {
    "execution": {
     "iopub.execute_input": "2025-08-12T14:25:16.603132Z",
     "iopub.status.busy": "2025-08-12T14:25:16.602427Z",
     "iopub.status.idle": "2025-08-12T14:25:50.413387Z",
     "shell.execute_reply": "2025-08-12T14:25:50.410077Z",
     "shell.execute_reply.started": "2025-08-12T14:25:16.603005Z"
    }
   },
   "outputs": [],
   "source": [
    "import pandas as pd\n",
    "import matplotlib.pyplot as plt\n",
    "import seaborn as sns\n",
    "\n",
    "# Path to JARTIC data - expected to be in project data folder\n",
    "# Note: Place the jp_jartic_processed_20230101_to_20231231.csv file in the ../data/ directory\n",
    "df = pd.read_csv(\"../data/jp_jartic_processed_20230101_to_20231231.csv\", parse_dates=['timestamp'])"
   ]
  },
  {
   "cell_type": "code",
   "execution_count": null,
   "id": "z66awh7obk",
   "metadata": {},
   "outputs": [],
   "source": [
    "df['weekday'] = df['timestamp'].dt.day_name()"
   ]
  },
  {
   "cell_type": "code",
   "execution_count": 15,
   "id": "b7bc0919-c203-4efd-b9f9-b23f18c3f796",
   "metadata": {
    "execution": {
     "iopub.execute_input": "2025-08-12T14:25:50.415171Z",
     "iopub.status.busy": "2025-08-12T14:25:50.414921Z",
     "iopub.status.idle": "2025-08-12T14:25:53.198775Z",
     "shell.execute_reply": "2025-08-12T14:25:53.197110Z",
     "shell.execute_reply.started": "2025-08-12T14:25:50.415150Z"
    }
   },
   "outputs": [
    {
     "name": "stdout",
     "output_type": "stream",
     "text": [
      "<class 'pandas.core.frame.DataFrame'>\n",
      "RangeIndex: 8677621 entries, 0 to 8677620\n",
      "Data columns (total 14 columns):\n",
      " #   Column              Dtype              \n",
      "---  ------              -----              \n",
      " 0   timestamp           datetime64[ns, UTC]\n",
      " 1   h3_index_res8       object             \n",
      " 2   avg_traffic_volume  float64            \n",
      " 3   max_traffic_volume  int64              \n",
      " 4   traffic_volume_std  float64            \n",
      " 5   measurement_count   int64              \n",
      " 6   avg_distance        float64            \n",
      " 7   unique_links        int64              \n",
      " 8   h3_lat_res8         float64            \n",
      " 9   h3_lon_res8         float64            \n",
      " 10  prefecture          object             \n",
      " 11  data_source         object             \n",
      " 12  country             object             \n",
      " 13  weekday             object             \n",
      "dtypes: datetime64[ns, UTC](1), float64(5), int64(3), object(5)\n",
      "memory usage: 926.9+ MB\n"
     ]
    },
    {
     "data": {
      "text/html": [
       "<div>\n",
       "<style scoped>\n",
       "    .dataframe tbody tr th:only-of-type {\n",
       "        vertical-align: middle;\n",
       "    }\n",
       "\n",
       "    .dataframe tbody tr th {\n",
       "        vertical-align: top;\n",
       "    }\n",
       "\n",
       "    .dataframe thead th {\n",
       "        text-align: right;\n",
       "    }\n",
       "</style>\n",
       "<table border=\"1\" class=\"dataframe\">\n",
       "  <thead>\n",
       "    <tr style=\"text-align: right;\">\n",
       "      <th></th>\n",
       "      <th>avg_traffic_volume</th>\n",
       "      <th>max_traffic_volume</th>\n",
       "      <th>traffic_volume_std</th>\n",
       "      <th>measurement_count</th>\n",
       "      <th>avg_distance</th>\n",
       "      <th>unique_links</th>\n",
       "      <th>h3_lat_res8</th>\n",
       "      <th>h3_lon_res8</th>\n",
       "    </tr>\n",
       "  </thead>\n",
       "  <tbody>\n",
       "    <tr>\n",
       "      <th>count</th>\n",
       "      <td>8.677621e+06</td>\n",
       "      <td>8.677621e+06</td>\n",
       "      <td>8.119435e+06</td>\n",
       "      <td>8.677621e+06</td>\n",
       "      <td>8.677621e+06</td>\n",
       "      <td>8.677621e+06</td>\n",
       "      <td>8.677621e+06</td>\n",
       "      <td>8.677621e+06</td>\n",
       "    </tr>\n",
       "    <tr>\n",
       "      <th>mean</th>\n",
       "      <td>2.693803e+01</td>\n",
       "      <td>5.756698e+01</td>\n",
       "      <td>1.379109e+01</td>\n",
       "      <td>3.518982e+01</td>\n",
       "      <td>5.191792e+01</td>\n",
       "      <td>3.486862e+01</td>\n",
       "      <td>3.580111e+01</td>\n",
       "      <td>1.366581e+02</td>\n",
       "    </tr>\n",
       "    <tr>\n",
       "      <th>std</th>\n",
       "      <td>2.219352e+01</td>\n",
       "      <td>5.444943e+01</td>\n",
       "      <td>1.164406e+01</td>\n",
       "      <td>6.188027e+01</td>\n",
       "      <td>4.651530e+01</td>\n",
       "      <td>6.157868e+01</td>\n",
       "      <td>2.867557e+00</td>\n",
       "      <td>3.869053e+00</td>\n",
       "    </tr>\n",
       "    <tr>\n",
       "      <th>min</th>\n",
       "      <td>0.000000e+00</td>\n",
       "      <td>0.000000e+00</td>\n",
       "      <td>0.000000e+00</td>\n",
       "      <td>1.000000e+00</td>\n",
       "      <td>0.000000e+00</td>\n",
       "      <td>1.000000e+00</td>\n",
       "      <td>2.612238e+01</td>\n",
       "      <td>1.276863e+02</td>\n",
       "    </tr>\n",
       "    <tr>\n",
       "      <th>25%</th>\n",
       "      <td>6.972222e+00</td>\n",
       "      <td>1.600000e+01</td>\n",
       "      <td>4.353410e+00</td>\n",
       "      <td>5.000000e+00</td>\n",
       "      <td>2.837097e+01</td>\n",
       "      <td>5.000000e+00</td>\n",
       "      <td>3.420964e+01</td>\n",
       "      <td>1.334354e+02</td>\n",
       "    </tr>\n",
       "    <tr>\n",
       "      <th>50%</th>\n",
       "      <td>2.300000e+01</td>\n",
       "      <td>4.400000e+01</td>\n",
       "      <td>1.086319e+01</td>\n",
       "      <td>1.300000e+01</td>\n",
       "      <td>4.081707e+01</td>\n",
       "      <td>1.300000e+01</td>\n",
       "      <td>3.537383e+01</td>\n",
       "      <td>1.371892e+02</td>\n",
       "    </tr>\n",
       "    <tr>\n",
       "      <th>75%</th>\n",
       "      <td>4.234000e+01</td>\n",
       "      <td>8.200000e+01</td>\n",
       "      <td>2.027763e+01</td>\n",
       "      <td>3.600000e+01</td>\n",
       "      <td>5.928000e+01</td>\n",
       "      <td>3.600000e+01</td>\n",
       "      <td>3.654506e+01</td>\n",
       "      <td>1.399405e+02</td>\n",
       "    </tr>\n",
       "    <tr>\n",
       "      <th>max</th>\n",
       "      <td>2.880000e+02</td>\n",
       "      <td>9.440000e+03</td>\n",
       "      <td>9.075989e+02</td>\n",
       "      <td>6.940000e+02</td>\n",
       "      <td>7.300000e+02</td>\n",
       "      <td>6.940000e+02</td>\n",
       "      <td>4.537708e+01</td>\n",
       "      <td>1.444370e+02</td>\n",
       "    </tr>\n",
       "  </tbody>\n",
       "</table>\n",
       "</div>"
      ],
      "text/plain": [
       "       avg_traffic_volume  max_traffic_volume  traffic_volume_std  \\\n",
       "count        8.677621e+06        8.677621e+06        8.119435e+06   \n",
       "mean         2.693803e+01        5.756698e+01        1.379109e+01   \n",
       "std          2.219352e+01        5.444943e+01        1.164406e+01   \n",
       "min          0.000000e+00        0.000000e+00        0.000000e+00   \n",
       "25%          6.972222e+00        1.600000e+01        4.353410e+00   \n",
       "50%          2.300000e+01        4.400000e+01        1.086319e+01   \n",
       "75%          4.234000e+01        8.200000e+01        2.027763e+01   \n",
       "max          2.880000e+02        9.440000e+03        9.075989e+02   \n",
       "\n",
       "       measurement_count  avg_distance  unique_links   h3_lat_res8  \\\n",
       "count       8.677621e+06  8.677621e+06  8.677621e+06  8.677621e+06   \n",
       "mean        3.518982e+01  5.191792e+01  3.486862e+01  3.580111e+01   \n",
       "std         6.188027e+01  4.651530e+01  6.157868e+01  2.867557e+00   \n",
       "min         1.000000e+00  0.000000e+00  1.000000e+00  2.612238e+01   \n",
       "25%         5.000000e+00  2.837097e+01  5.000000e+00  3.420964e+01   \n",
       "50%         1.300000e+01  4.081707e+01  1.300000e+01  3.537383e+01   \n",
       "75%         3.600000e+01  5.928000e+01  3.600000e+01  3.654506e+01   \n",
       "max         6.940000e+02  7.300000e+02  6.940000e+02  4.537708e+01   \n",
       "\n",
       "        h3_lon_res8  \n",
       "count  8.677621e+06  \n",
       "mean   1.366581e+02  \n",
       "std    3.869053e+00  \n",
       "min    1.276863e+02  \n",
       "25%    1.334354e+02  \n",
       "50%    1.371892e+02  \n",
       "75%    1.399405e+02  \n",
       "max    1.444370e+02  "
      ]
     },
     "execution_count": 15,
     "metadata": {},
     "output_type": "execute_result"
    }
   ],
   "source": [
    "df.head()\n",
    "df.info()\n",
    "df.describe()"
   ]
  },
  {
   "cell_type": "code",
   "execution_count": 16,
   "id": "c56c0c08-9940-474c-b997-f78d25f58797",
   "metadata": {
    "execution": {
     "iopub.execute_input": "2025-08-12T14:28:32.364115Z",
     "iopub.status.busy": "2025-08-12T14:28:32.363552Z",
     "iopub.status.idle": "2025-08-12T14:28:34.211328Z",
     "shell.execute_reply": "2025-08-12T14:28:34.210139Z",
     "shell.execute_reply.started": "2025-08-12T14:28:32.364070Z"
    }
   },
   "outputs": [
    {
     "data": {
      "text/plain": [
       "timestamp                  0\n",
       "h3_index_res8              0\n",
       "avg_traffic_volume         0\n",
       "max_traffic_volume         0\n",
       "traffic_volume_std    558186\n",
       "measurement_count          0\n",
       "avg_distance               0\n",
       "unique_links               0\n",
       "h3_lat_res8                0\n",
       "h3_lon_res8                0\n",
       "prefecture                 0\n",
       "data_source                0\n",
       "country                    0\n",
       "weekday                    0\n",
       "dtype: int64"
      ]
     },
     "execution_count": 16,
     "metadata": {},
     "output_type": "execute_result"
    }
   ],
   "source": [
    "df.isna().sum()"
   ]
  },
  {
   "cell_type": "code",
   "execution_count": 17,
   "id": "aa5404ef-4443-405a-8b57-90ff06d2bd01",
   "metadata": {
    "execution": {
     "iopub.execute_input": "2025-08-12T14:31:48.938418Z",
     "iopub.status.busy": "2025-08-12T14:31:48.937350Z",
     "iopub.status.idle": "2025-08-12T14:31:49.681409Z",
     "shell.execute_reply": "2025-08-12T14:31:49.679933Z",
     "shell.execute_reply.started": "2025-08-12T14:31:48.938334Z"
    },
    "scrolled": true
   },
   "outputs": [
    {
     "name": "stdout",
     "output_type": "stream",
     "text": [
      "(69423, 14)\n"
     ]
    }
   ],
   "source": [
    "tokyo_df = df[df['prefecture'] == 'tokyo'].copy()\n",
    "print(tokyo_df.shape)\n"
   ]
  },
  {
   "cell_type": "code",
   "execution_count": 18,
   "id": "c6c56133-53cd-4840-b6c0-4b06d0716f02",
   "metadata": {
    "execution": {
     "iopub.execute_input": "2025-08-12T14:33:26.485598Z",
     "iopub.status.busy": "2025-08-12T14:33:26.484865Z",
     "iopub.status.idle": "2025-08-12T14:33:26.580076Z",
     "shell.execute_reply": "2025-08-12T14:33:26.577255Z",
     "shell.execute_reply.started": "2025-08-12T14:33:26.485548Z"
    }
   },
   "outputs": [],
   "source": [
    "tokyo_df_resampled = tokyo_df.set_index('timestamp').resample('h').mean(numeric_only=True).reset_index()\n"
   ]
  },
  {
   "cell_type": "code",
   "execution_count": 19,
   "id": "1706e712-a7ed-4a10-a6c6-3930e027b6c9",
   "metadata": {
    "execution": {
     "iopub.execute_input": "2025-08-12T14:33:32.247723Z",
     "iopub.status.busy": "2025-08-12T14:33:32.247027Z",
     "iopub.status.idle": "2025-08-12T14:33:33.863976Z",
     "shell.execute_reply": "2025-08-12T14:33:33.861723Z",
     "shell.execute_reply.started": "2025-08-12T14:33:32.247617Z"
    }
   },
   "outputs": [
    {
     "data": {
      "image/png": "[encoded data removed]",
      "text/plain": [
       "<Figure size 1400x600 with 1 Axes>"
      ]
     },
     "metadata": {},
     "output_type": "display_data"
    }
   ],
   "source": [
    "plt.figure(figsize=(14,6))\n",
    "plt.plot(tokyo_df['timestamp'], tokyo_df['avg_traffic_volume'])\n",
    "plt.title(\"Traffic Volume Over Time — Tokyo\")\n",
    "plt.xlabel(\"Time\")\n",
    "plt.ylabel(\"Average Traffic Volume\")\n",
    "plt.show()\n"
   ]
  },
  {
   "cell_type": "code",
   "execution_count": 20,
   "id": "a16319fb-ebec-44e6-aef8-eba4cbfd4e68",
   "metadata": {
    "execution": {
     "iopub.execute_input": "2025-08-12T14:34:25.091402Z",
     "iopub.status.busy": "2025-08-12T14:34:25.090627Z",
     "iopub.status.idle": "2025-08-12T14:34:25.179925Z",
     "shell.execute_reply": "2025-08-12T14:34:25.177783Z",
     "shell.execute_reply.started": "2025-08-12T14:34:25.091341Z"
    }
   },
   "outputs": [
    {
     "data": {
      "text/html": [
       "<div>\n",
       "<style scoped>\n",
       "    .dataframe tbody tr th:only-of-type {\n",
       "        vertical-align: middle;\n",
       "    }\n",
       "\n",
       "    .dataframe tbody tr th {\n",
       "        vertical-align: top;\n",
       "    }\n",
       "\n",
       "    .dataframe thead th {\n",
       "        text-align: right;\n",
       "    }\n",
       "</style>\n",
       "<table border=\"1\" class=\"dataframe\">\n",
       "  <thead>\n",
       "    <tr style=\"text-align: right;\">\n",
       "      <th></th>\n",
       "      <th>timestamp</th>\n",
       "      <th>h3_index_res8</th>\n",
       "      <th>avg_traffic_volume</th>\n",
       "      <th>max_traffic_volume</th>\n",
       "      <th>traffic_volume_std</th>\n",
       "      <th>measurement_count</th>\n",
       "      <th>avg_distance</th>\n",
       "      <th>unique_links</th>\n",
       "      <th>h3_lat_res8</th>\n",
       "      <th>h3_lon_res8</th>\n",
       "      <th>prefecture</th>\n",
       "      <th>data_source</th>\n",
       "      <th>country</th>\n",
       "      <th>weekday</th>\n",
       "      <th>lag1</th>\n",
       "      <th>lag24</th>\n",
       "    </tr>\n",
       "  </thead>\n",
       "  <tbody>\n",
       "    <tr>\n",
       "      <th>2994</th>\n",
       "      <td>2022-12-31 18:00:00+00:00</td>\n",
       "      <td>882f5a371dfffff</td>\n",
       "      <td>16.054711</td>\n",
       "      <td>64</td>\n",
       "      <td>11.037770</td>\n",
       "      <td>329</td>\n",
       "      <td>34.422018</td>\n",
       "      <td>329</td>\n",
       "      <td>35.709630</td>\n",
       "      <td>139.690574</td>\n",
       "      <td>tokyo</td>\n",
       "      <td>jartic</td>\n",
       "      <td>JP</td>\n",
       "      <td>Saturday</td>\n",
       "      <td>9.504202</td>\n",
       "      <td>9.385093</td>\n",
       "    </tr>\n",
       "    <tr>\n",
       "      <th>2996</th>\n",
       "      <td>2022-12-31 18:00:00+00:00</td>\n",
       "      <td>882f5a34d7fffff</td>\n",
       "      <td>10.254658</td>\n",
       "      <td>43</td>\n",
       "      <td>9.531710</td>\n",
       "      <td>161</td>\n",
       "      <td>45.919255</td>\n",
       "      <td>161</td>\n",
       "      <td>35.710524</td>\n",
       "      <td>139.563946</td>\n",
       "      <td>tokyo</td>\n",
       "      <td>jartic</td>\n",
       "      <td>JP</td>\n",
       "      <td>Saturday</td>\n",
       "      <td>16.054711</td>\n",
       "      <td>14.947059</td>\n",
       "    </tr>\n",
       "    <tr>\n",
       "      <th>2998</th>\n",
       "      <td>2022-12-31 18:00:00+00:00</td>\n",
       "      <td>882f5a3217fffff</td>\n",
       "      <td>15.412121</td>\n",
       "      <td>76</td>\n",
       "      <td>10.132915</td>\n",
       "      <td>495</td>\n",
       "      <td>26.852227</td>\n",
       "      <td>495</td>\n",
       "      <td>35.709214</td>\n",
       "      <td>139.808032</td>\n",
       "      <td>tokyo</td>\n",
       "      <td>jartic</td>\n",
       "      <td>JP</td>\n",
       "      <td>Saturday</td>\n",
       "      <td>10.254658</td>\n",
       "      <td>13.004082</td>\n",
       "    </tr>\n",
       "    <tr>\n",
       "      <th>3053</th>\n",
       "      <td>2022-12-31 18:00:00+00:00</td>\n",
       "      <td>882f5b52d9fffff</td>\n",
       "      <td>8.863636</td>\n",
       "      <td>25</td>\n",
       "      <td>6.063965</td>\n",
       "      <td>44</td>\n",
       "      <td>43.204545</td>\n",
       "      <td>44</td>\n",
       "      <td>35.711911</td>\n",
       "      <td>139.311290</td>\n",
       "      <td>tokyo</td>\n",
       "      <td>jartic</td>\n",
       "      <td>JP</td>\n",
       "      <td>Saturday</td>\n",
       "      <td>15.412121</td>\n",
       "      <td>8.627907</td>\n",
       "    </tr>\n",
       "    <tr>\n",
       "      <th>3055</th>\n",
       "      <td>2022-12-31 18:00:00+00:00</td>\n",
       "      <td>882f5b5513fffff</td>\n",
       "      <td>2.777778</td>\n",
       "      <td>8</td>\n",
       "      <td>2.073802</td>\n",
       "      <td>18</td>\n",
       "      <td>97.555556</td>\n",
       "      <td>18</td>\n",
       "      <td>35.791446</td>\n",
       "      <td>139.184740</td>\n",
       "      <td>tokyo</td>\n",
       "      <td>jartic</td>\n",
       "      <td>JP</td>\n",
       "      <td>Saturday</td>\n",
       "      <td>8.863636</td>\n",
       "      <td>3.187500</td>\n",
       "    </tr>\n",
       "    <tr>\n",
       "      <th>...</th>\n",
       "      <td>...</td>\n",
       "      <td>...</td>\n",
       "      <td>...</td>\n",
       "      <td>...</td>\n",
       "      <td>...</td>\n",
       "      <td>...</td>\n",
       "      <td>...</td>\n",
       "      <td>...</td>\n",
       "      <td>...</td>\n",
       "      <td>...</td>\n",
       "      <td>...</td>\n",
       "      <td>...</td>\n",
       "      <td>...</td>\n",
       "      <td>...</td>\n",
       "      <td>...</td>\n",
       "      <td>...</td>\n",
       "    </tr>\n",
       "    <tr>\n",
       "      <th>8676688</th>\n",
       "      <td>2023-12-31 14:00:00+00:00</td>\n",
       "      <td>882f5b52d9fffff</td>\n",
       "      <td>12.065217</td>\n",
       "      <td>32</td>\n",
       "      <td>7.755721</td>\n",
       "      <td>46</td>\n",
       "      <td>45.956522</td>\n",
       "      <td>46</td>\n",
       "      <td>35.711911</td>\n",
       "      <td>139.311290</td>\n",
       "      <td>tokyo</td>\n",
       "      <td>jartic</td>\n",
       "      <td>JP</td>\n",
       "      <td>Sunday</td>\n",
       "      <td>11.462766</td>\n",
       "      <td>20.015203</td>\n",
       "    </tr>\n",
       "    <tr>\n",
       "      <th>8676690</th>\n",
       "      <td>2023-12-31 14:00:00+00:00</td>\n",
       "      <td>882f5b5513fffff</td>\n",
       "      <td>2.888889</td>\n",
       "      <td>6</td>\n",
       "      <td>1.367217</td>\n",
       "      <td>18</td>\n",
       "      <td>85.888889</td>\n",
       "      <td>18</td>\n",
       "      <td>35.791446</td>\n",
       "      <td>139.184740</td>\n",
       "      <td>tokyo</td>\n",
       "      <td>jartic</td>\n",
       "      <td>JP</td>\n",
       "      <td>Sunday</td>\n",
       "      <td>12.065217</td>\n",
       "      <td>19.307692</td>\n",
       "    </tr>\n",
       "    <tr>\n",
       "      <th>8676710</th>\n",
       "      <td>2023-12-31 14:00:00+00:00</td>\n",
       "      <td>882f5b461bfffff</td>\n",
       "      <td>3.500000</td>\n",
       "      <td>4</td>\n",
       "      <td>0.707107</td>\n",
       "      <td>2</td>\n",
       "      <td>85.500000</td>\n",
       "      <td>2</td>\n",
       "      <td>35.791744</td>\n",
       "      <td>139.058782</td>\n",
       "      <td>tokyo</td>\n",
       "      <td>jartic</td>\n",
       "      <td>JP</td>\n",
       "      <td>Sunday</td>\n",
       "      <td>2.888889</td>\n",
       "      <td>4.272727</td>\n",
       "    </tr>\n",
       "    <tr>\n",
       "      <th>8676727</th>\n",
       "      <td>2023-12-31 14:00:00+00:00</td>\n",
       "      <td>882f5aaf31fffff</td>\n",
       "      <td>18.666667</td>\n",
       "      <td>86</td>\n",
       "      <td>14.280851</td>\n",
       "      <td>129</td>\n",
       "      <td>25.726562</td>\n",
       "      <td>127</td>\n",
       "      <td>35.622379</td>\n",
       "      <td>139.812136</td>\n",
       "      <td>tokyo</td>\n",
       "      <td>jartic</td>\n",
       "      <td>JP</td>\n",
       "      <td>Sunday</td>\n",
       "      <td>3.500000</td>\n",
       "      <td>3.500000</td>\n",
       "    </tr>\n",
       "    <tr>\n",
       "      <th>8677029</th>\n",
       "      <td>2023-12-31 14:00:00+00:00</td>\n",
       "      <td>882f5bc9d1fffff</td>\n",
       "      <td>10.664062</td>\n",
       "      <td>36</td>\n",
       "      <td>7.235387</td>\n",
       "      <td>128</td>\n",
       "      <td>50.718750</td>\n",
       "      <td>128</td>\n",
       "      <td>35.711284</td>\n",
       "      <td>139.437518</td>\n",
       "      <td>tokyo</td>\n",
       "      <td>jartic</td>\n",
       "      <td>JP</td>\n",
       "      <td>Sunday</td>\n",
       "      <td>18.666667</td>\n",
       "      <td>24.352113</td>\n",
       "    </tr>\n",
       "  </tbody>\n",
       "</table>\n",
       "<p>67935 rows × 16 columns</p>\n",
       "</div>"
      ],
      "text/plain": [
       "                        timestamp    h3_index_res8  avg_traffic_volume  \\\n",
       "2994    2022-12-31 18:00:00+00:00  882f5a371dfffff           16.054711   \n",
       "2996    2022-12-31 18:00:00+00:00  882f5a34d7fffff           10.254658   \n",
       "2998    2022-12-31 18:00:00+00:00  882f5a3217fffff           15.412121   \n",
       "3053    2022-12-31 18:00:00+00:00  882f5b52d9fffff            8.863636   \n",
       "3055    2022-12-31 18:00:00+00:00  882f5b5513fffff            2.777778   \n",
       "...                           ...              ...                 ...   \n",
       "8676688 2023-12-31 14:00:00+00:00  882f5b52d9fffff           12.065217   \n",
       "8676690 2023-12-31 14:00:00+00:00  882f5b5513fffff            2.888889   \n",
       "8676710 2023-12-31 14:00:00+00:00  882f5b461bfffff            3.500000   \n",
       "8676727 2023-12-31 14:00:00+00:00  882f5aaf31fffff           18.666667   \n",
       "8677029 2023-12-31 14:00:00+00:00  882f5bc9d1fffff           10.664062   \n",
       "\n",
       "         max_traffic_volume  traffic_volume_std  measurement_count  \\\n",
       "2994                     64           11.037770                329   \n",
       "2996                     43            9.531710                161   \n",
       "2998                     76           10.132915                495   \n",
       "3053                     25            6.063965                 44   \n",
       "3055                      8            2.073802                 18   \n",
       "...                     ...                 ...                ...   \n",
       "8676688                  32            7.755721                 46   \n",
       "8676690                   6            1.367217                 18   \n",
       "8676710                   4            0.707107                  2   \n",
       "8676727                  86           14.280851                129   \n",
       "8677029                  36            7.235387                128   \n",
       "\n",
       "         avg_distance  unique_links  h3_lat_res8  h3_lon_res8 prefecture  \\\n",
       "2994        34.422018           329    35.709630   139.690574      tokyo   \n",
       "2996        45.919255           161    35.710524   139.563946      tokyo   \n",
       "2998        26.852227           495    35.709214   139.808032      tokyo   \n",
       "3053        43.204545            44    35.711911   139.311290      tokyo   \n",
       "3055        97.555556            18    35.791446   139.184740      tokyo   \n",
       "...               ...           ...          ...          ...        ...   \n",
       "8676688     45.956522            46    35.711911   139.311290      tokyo   \n",
       "8676690     85.888889            18    35.791446   139.184740      tokyo   \n",
       "8676710     85.500000             2    35.791744   139.058782      tokyo   \n",
       "8676727     25.726562           127    35.622379   139.812136      tokyo   \n",
       "8677029     50.718750           128    35.711284   139.437518      tokyo   \n",
       "\n",
       "        data_source country   weekday       lag1      lag24  \n",
       "2994         jartic      JP  Saturday   9.504202   9.385093  \n",
       "2996         jartic      JP  Saturday  16.054711  14.947059  \n",
       "2998         jartic      JP  Saturday  10.254658  13.004082  \n",
       "3053         jartic      JP  Saturday  15.412121   8.627907  \n",
       "3055         jartic      JP  Saturday   8.863636   3.187500  \n",
       "...             ...     ...       ...        ...        ...  \n",
       "8676688      jartic      JP    Sunday  11.462766  20.015203  \n",
       "8676690      jartic      JP    Sunday  12.065217  19.307692  \n",
       "8676710      jartic      JP    Sunday   2.888889   4.272727  \n",
       "8676727      jartic      JP    Sunday   3.500000   3.500000  \n",
       "8677029      jartic      JP    Sunday  18.666667  24.352113  \n",
       "\n",
       "[67935 rows x 16 columns]"
      ]
     },
     "execution_count": 20,
     "metadata": {},
     "output_type": "execute_result"
    }
   ],
   "source": [
    "# Add weekday to tokyo_df before creating lags\n",
    "tokyo_df['weekday'] = tokyo_df['timestamp'].dt.day_name()\n",
    "\n",
    "tokyo_df['lag1'] = tokyo_df['avg_traffic_volume'].shift(1)\n",
    "tokyo_df['lag24'] = tokyo_df['avg_traffic_volume'].shift(24)\n",
    "tokyo_df = tokyo_df.dropna()\n",
    "tokyo_df"
   ]
  },
  {
   "cell_type": "markdown",
   "id": "c16fbe79-d13a-44b9-9cc2-f6505ac8dc36",
   "metadata": {},
   "source": [
    "**Train/test split**"
   ]
  },
  {
   "cell_type": "code",
   "execution_count": 21,
   "id": "c65ad5c4-6a38-46b9-b669-e8f5907fb5d4",
   "metadata": {
    "execution": {
     "iopub.execute_input": "2025-08-12T14:40:01.524670Z",
     "iopub.status.busy": "2025-08-12T14:40:01.523807Z",
     "iopub.status.idle": "2025-08-12T14:40:01.567624Z",
     "shell.execute_reply": "2025-08-12T14:40:01.564953Z",
     "shell.execute_reply.started": "2025-08-12T14:40:01.524608Z"
    }
   },
   "outputs": [
    {
     "name": "stdout",
     "output_type": "stream",
     "text": [
      "R²: 0.29981272639910106\n",
      "RMSE: 264.18748563164934\n"
     ]
    },
    {
     "name": "stderr",
     "output_type": "stream",
     "text": [
      "/Users/vojtech/.pyenv/versions/3.10.6/envs/smoglens/lib/python3.10/site-packages/sklearn/linear_model/_base.py:280: RuntimeWarning: divide by zero encountered in matmul\n",
      "  return X @ coef_ + self.intercept_\n",
      "/Users/vojtech/.pyenv/versions/3.10.6/envs/smoglens/lib/python3.10/site-packages/sklearn/linear_model/_base.py:280: RuntimeWarning: overflow encountered in matmul\n",
      "  return X @ coef_ + self.intercept_\n",
      "/Users/vojtech/.pyenv/versions/3.10.6/envs/smoglens/lib/python3.10/site-packages/sklearn/linear_model/_base.py:280: RuntimeWarning: invalid value encountered in matmul\n",
      "  return X @ coef_ + self.intercept_\n"
     ]
    }
   ],
   "source": [
    "from sklearn.linear_model import LinearRegression\n",
    "from sklearn.model_selection import train_test_split\n",
    "from sklearn.metrics import r2_score, mean_squared_error\n",
    "from sklearn.metrics import mean_squared_error\n",
    "\n",
    "\n",
    "X = tokyo_df[['lag1', 'lag24']]\n",
    "y = tokyo_df['avg_traffic_volume']\n",
    "\n",
    "X_train, X_test, y_train, y_test = train_test_split(X, y, test_size=0.2, shuffle=False)\n",
    "\n",
    "model = LinearRegression()\n",
    "model.fit(X_train, y_train)\n",
    "y_pred = model.predict(X_test)\n",
    "\n",
    "print(\"R²:\", r2_score(y_test, y_pred))\n",
    "print(\"RMSE:\", mean_squared_error(y_test, y_pred))"
   ]
  },
  {
   "cell_type": "markdown",
   "id": "5a0d7ceb-310d-4e4e-85f4-ef7419dd3742",
   "metadata": {},
   "source": [
    "**Plotting**"
   ]
  },
  {
   "cell_type": "code",
   "execution_count": 22,
   "id": "e4def419-378f-419c-b63b-e709bd5353dd",
   "metadata": {
    "execution": {
     "iopub.execute_input": "2025-08-12T14:35:31.543939Z",
     "iopub.status.busy": "2025-08-12T14:35:31.542860Z",
     "iopub.status.idle": "2025-08-12T14:35:31.974794Z",
     "shell.execute_reply": "2025-08-12T14:35:31.973371Z",
     "shell.execute_reply.started": "2025-08-12T14:35:31.543857Z"
    },
    "scrolled": true
   },
   "outputs": [
    {
     "data": {
      "image/png": "[encoded data removed]",
      "text/plain": [
       "<Figure size 1400x600 with 1 Axes>"
      ]
     },
     "metadata": {},
     "output_type": "display_data"
    }
   ],
   "source": [
    "plt.figure(figsize=(14,6))\n",
    "plt.plot(y_test.values, label='Actual')\n",
    "plt.plot(y_pred, label='Predicted')\n",
    "plt.legend()\n",
    "plt.show()\n"
   ]
  },
  {
   "cell_type": "markdown",
   "id": "5588e1d5-3768-4928-874d-4c1116703181",
   "metadata": {},
   "source": [
    "**Compares weekday vs weekend traffic**"
   ]
  },
  {
   "cell_type": "code",
   "execution_count": 23,
   "id": "9a0c415e-db80-4dd9-af8c-a31747ced129",
   "metadata": {
    "execution": {
     "iopub.execute_input": "2025-08-12T14:47:54.126343Z",
     "iopub.status.busy": "2025-08-12T14:47:54.125389Z",
     "iopub.status.idle": "2025-08-12T14:47:54.196083Z",
     "shell.execute_reply": "2025-08-12T14:47:54.192866Z",
     "shell.execute_reply.started": "2025-08-12T14:47:54.126265Z"
    }
   },
   "outputs": [
    {
     "name": "stdout",
     "output_type": "stream",
     "text": [
      "    is_weekend  hour  avg_traffic_volume       lag1      lag24\n",
      "0        False     0           43.805178  44.194362  26.915142\n",
      "1        False     1           44.954605  45.026142  40.162035\n",
      "2        False     2           45.500185  45.371567  45.549412\n",
      "3        False     3           44.074532  44.146861  43.801116\n",
      "4        False     4           42.509839  42.646521  44.964588\n",
      "5        False     5           44.848228  44.626227  45.453397\n",
      "6        False     6           45.682990  45.579869  44.107782\n",
      "7        False     7           46.216106  46.092392  42.522087\n",
      "8        False     8           46.913515  46.812672  44.866445\n",
      "9        False     9           46.681976  46.500642  45.707762\n",
      "10       False    10           39.970450  40.575119  46.176826\n",
      "11       False    11           32.359288  33.338797  47.234406\n",
      "12       False    12           26.439637  27.158119  46.987692\n",
      "13       False    13           22.515363  22.893241  40.163524\n",
      "14       False    14           18.416911  18.704335  32.314253\n",
      "15       False    15           15.809421  15.695263  26.245176\n",
      "16       False    16           14.637473  14.349411  22.321879\n",
      "17       False    17           13.262720  12.957776  18.439880\n",
      "18       False    18           12.210487  11.887717  15.810807\n",
      "19       False    19           12.580576  11.980534  14.527281\n",
      "20       False    20           16.110021  15.103323  13.068947\n",
      "21       False    21           27.051320  24.845543  11.792145\n",
      "22       False    22           39.120959  36.991754  11.792179\n",
      "23       False    23           44.538316  44.141990  15.272588\n",
      "24        True     0           36.340463  35.828516  18.842149\n",
      "25        True     1           40.322114  39.714490  26.959401\n",
      "26        True     2           42.400025  42.213865  33.572987\n",
      "27        True     3           42.678693  42.523422  36.368530\n",
      "28        True     4           42.825299  42.796032  40.460708\n",
      "29        True     5           43.024711  43.103409  42.312358\n",
      "30        True     6           43.482365  43.487009  42.585665\n",
      "31        True     7           43.926346  43.893647  42.850258\n",
      "32        True     8           43.709487  43.657041  43.024117\n",
      "33        True     9           40.602864  40.861166  43.506988\n",
      "34        True    10           34.366667  34.980280  44.082770\n",
      "35        True    11           29.259431  29.957851  43.810443\n",
      "36        True    12           25.669289  26.262381  40.869220\n",
      "37        True    13           22.392130  22.846300  34.495731\n",
      "38        True    14           17.776157  18.370475  29.547488\n",
      "39        True    15           13.740985  14.129026  25.779194\n",
      "40        True    16           11.986056  11.929985  22.601013\n",
      "41        True    17           10.301386  10.297504  18.020557\n",
      "42        True    18            9.418908   9.223823  14.104879\n",
      "43        True    19            9.778797   9.399288  11.935784\n",
      "44        True    20           12.717804  11.857949  10.269114\n",
      "45        True    21           20.421694  18.967868   9.241169\n",
      "46        True    22           29.772846  28.116136   9.527866\n",
      "47        True    23           36.312508  35.443448  12.478937\n"
     ]
    }
   ],
   "source": [
    "tokyo_df['weekday_num'] = tokyo_df['weekday'].map({\n",
    "    'Monday': 0, 'Tuesday':1, 'Wednesday':2, 'Thursday':3,\n",
    "    'Friday':4, 'Saturday':5, 'Sunday':6\n",
    "})\n",
    "\n",
    "tokyo_df['is_weekend'] = tokyo_df['weekday'].isin(['Saturday', 'Sunday'])\n",
    "\n",
    "tokyo_df['hour'] = tokyo_df['timestamp'].dt.hour\n",
    "\n",
    "agg = tokyo_df.groupby(['is_weekend', 'hour'])[['avg_traffic_volume', 'lag1', 'lag24']].mean().reset_index()\n",
    "print(agg)\n"
   ]
  },
  {
   "cell_type": "code",
   "execution_count": null,
   "id": "ff6f8185-4550-4b93-9b29-635a5ca23145",
   "metadata": {
    "execution": {
     "iopub.execute_input": "2025-08-12T14:49:45.877440Z",
     "iopub.status.busy": "2025-08-12T14:49:45.876570Z",
     "iopub.status.idle": "2025-08-12T14:49:45.941977Z",
     "shell.execute_reply": "2025-08-12T14:49:45.938952Z",
     "shell.execute_reply.started": "2025-08-12T14:49:45.877386Z"
    }
   },
   "outputs": [
    {
     "name": "stdout",
     "output_type": "stream",
     "text": [
      "R²: 0.3782303058903749\n",
      "RMSE: 235.36168089707274\n"
     ]
    },
    {
     "name": "stderr",
     "output_type": "stream",
     "text": [
      "/Users/vojtech/.pyenv/versions/3.10.6/envs/smoglens/lib/python3.10/site-packages/sklearn/linear_model/_base.py:280: RuntimeWarning: divide by zero encountered in matmul\n",
      "  return X @ coef_ + self.intercept_\n",
      "/Users/vojtech/.pyenv/versions/3.10.6/envs/smoglens/lib/python3.10/site-packages/sklearn/linear_model/_base.py:280: RuntimeWarning: overflow encountered in matmul\n",
      "  return X @ coef_ + self.intercept_\n",
      "/Users/vojtech/.pyenv/versions/3.10.6/envs/smoglens/lib/python3.10/site-packages/sklearn/linear_model/_base.py:280: RuntimeWarning: invalid value encountered in matmul\n",
      "  return X @ coef_ + self.intercept_\n"
     ]
    }
   ],
   "source": [
    "from sklearn.model_selection import train_test_split\n",
    "from sklearn.linear_model import LinearRegression\n",
    "from sklearn.metrics import r2_score, mean_squared_error\n",
    "\n",
    "features = tokyo_df[['lag1', 'lag24', 'hour', 'is_weekend']]\n",
    "tokyo_df['is_weekend'] = tokyo_df['is_weekend'].astype(int)\n",
    "features = tokyo_df[['lag1', 'lag24', 'hour', 'is_weekend']]\n",
    "\n",
    "\n",
    "target = tokyo_df['avg_traffic_volume']\n",
    "\n",
    "X_train, X_test, y_train, y_test = train_test_split(features, target, test_size=0.2, random_state=42)\n",
    "\n",
    "model = LinearRegression()\n",
    "model.fit(X_train, y_train)\n",
    "\n",
    "y_pred = model.predict(X_test)\n",
    "\n",
    "print(\"R²:\", r2_score(y_test, y_pred))\n",
    "print(\"RMSE:\", mean_squared_error(y_test, y_pred))\n"
   ]
  }
 ],
 "metadata": {
  "kernelspec": {
   "display_name": "smoglens",
   "language": "python",
   "name": "python3"
  },
  "language_info": {
   "codemirror_mode": {
    "name": "ipython",
    "version": 3
   },
   "file_extension": ".py",
   "mimetype": "text/x-python",
   "name": "python",
   "nbconvert_exporter": "python",
   "pygments_lexer": "ipython3",
   "version": "3.10.6"
  }
 },
 "nbformat": 4,
 "nbformat_minor": 5
}
